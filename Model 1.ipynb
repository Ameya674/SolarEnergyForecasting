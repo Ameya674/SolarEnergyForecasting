{
 "cells": [
  {
   "cell_type": "code",
   "execution_count": 1,
   "id": "136db91a",
   "metadata": {},
   "outputs": [],
   "source": [
    "import pandas as pd\n",
    "import numpy as np\n",
    "import matplotlib.pyplot as plt\n",
    "from sklearn.linear_model import LinearRegression\n",
    "from sklearn.metrics import r2_score\n",
    "from sklearn.metrics import mean_squared_error\n",
    "import math\n",
    "from sklearn.preprocessing import MinMaxScaler\n",
    "from keras.preprocessing.sequence import TimeseriesGenerator\n",
    "from keras.models import Sequential\n",
    "from keras.layers import Dense\n",
    "from keras.layers import LSTM\n",
    "from filterpy.kalman import KalmanFilter"
   ]
  },
  {
   "cell_type": "code",
   "execution_count": 2,
   "id": "d18524b7",
   "metadata": {},
   "outputs": [
    {
     "data": {
      "text/html": [
       "<div>\n",
       "<style scoped>\n",
       "    .dataframe tbody tr th:only-of-type {\n",
       "        vertical-align: middle;\n",
       "    }\n",
       "\n",
       "    .dataframe tbody tr th {\n",
       "        vertical-align: top;\n",
       "    }\n",
       "\n",
       "    .dataframe thead th {\n",
       "        text-align: right;\n",
       "    }\n",
       "</style>\n",
       "<table border=\"1\" class=\"dataframe\">\n",
       "  <thead>\n",
       "    <tr style=\"text-align: right;\">\n",
       "      <th></th>\n",
       "      <th>Ta (°C)</th>\n",
       "      <th>Tm (°C)</th>\n",
       "      <th>I (W/m2)</th>\n",
       "      <th>Month</th>\n",
       "      <th>Day</th>\n",
       "      <th>Time</th>\n",
       "      <th>Season</th>\n",
       "      <th>P (kW)</th>\n",
       "    </tr>\n",
       "    <tr>\n",
       "      <th>Date</th>\n",
       "      <th></th>\n",
       "      <th></th>\n",
       "      <th></th>\n",
       "      <th></th>\n",
       "      <th></th>\n",
       "      <th></th>\n",
       "      <th></th>\n",
       "      <th></th>\n",
       "    </tr>\n",
       "  </thead>\n",
       "  <tbody>\n",
       "    <tr>\n",
       "      <th>2012-03-06 03:55:00</th>\n",
       "      <td>4.900000</td>\n",
       "      <td>1.300000</td>\n",
       "      <td>0.000000</td>\n",
       "      <td>3</td>\n",
       "      <td>6</td>\n",
       "      <td>3</td>\n",
       "      <td>1</td>\n",
       "      <td>0.000000</td>\n",
       "    </tr>\n",
       "    <tr>\n",
       "      <th>2012-03-06 04:55:00</th>\n",
       "      <td>4.705500</td>\n",
       "      <td>1.424667</td>\n",
       "      <td>0.000000</td>\n",
       "      <td>3</td>\n",
       "      <td>6</td>\n",
       "      <td>4</td>\n",
       "      <td>1</td>\n",
       "      <td>0.000000</td>\n",
       "    </tr>\n",
       "    <tr>\n",
       "      <th>2012-03-06 05:55:00</th>\n",
       "      <td>4.750000</td>\n",
       "      <td>1.219000</td>\n",
       "      <td>24.314473</td>\n",
       "      <td>3</td>\n",
       "      <td>6</td>\n",
       "      <td>5</td>\n",
       "      <td>1</td>\n",
       "      <td>14.752650</td>\n",
       "    </tr>\n",
       "    <tr>\n",
       "      <th>2012-03-06 06:55:00</th>\n",
       "      <td>5.078667</td>\n",
       "      <td>2.003167</td>\n",
       "      <td>174.397848</td>\n",
       "      <td>3</td>\n",
       "      <td>6</td>\n",
       "      <td>6</td>\n",
       "      <td>1</td>\n",
       "      <td>127.163083</td>\n",
       "    </tr>\n",
       "    <tr>\n",
       "      <th>2012-03-06 07:55:00</th>\n",
       "      <td>7.105000</td>\n",
       "      <td>5.859667</td>\n",
       "      <td>371.125332</td>\n",
       "      <td>3</td>\n",
       "      <td>6</td>\n",
       "      <td>7</td>\n",
       "      <td>1</td>\n",
       "      <td>302.455700</td>\n",
       "    </tr>\n",
       "    <tr>\n",
       "      <th>...</th>\n",
       "      <td>...</td>\n",
       "      <td>...</td>\n",
       "      <td>...</td>\n",
       "      <td>...</td>\n",
       "      <td>...</td>\n",
       "      <td>...</td>\n",
       "      <td>...</td>\n",
       "      <td>...</td>\n",
       "    </tr>\n",
       "    <tr>\n",
       "      <th>2013-12-30 16:51:00</th>\n",
       "      <td>13.194333</td>\n",
       "      <td>10.606667</td>\n",
       "      <td>8.329888</td>\n",
       "      <td>12</td>\n",
       "      <td>30</td>\n",
       "      <td>16</td>\n",
       "      <td>0</td>\n",
       "      <td>6.246400</td>\n",
       "    </tr>\n",
       "    <tr>\n",
       "      <th>2013-12-30 17:51:00</th>\n",
       "      <td>11.828833</td>\n",
       "      <td>8.566167</td>\n",
       "      <td>0.000000</td>\n",
       "      <td>12</td>\n",
       "      <td>30</td>\n",
       "      <td>17</td>\n",
       "      <td>0</td>\n",
       "      <td>0.000000</td>\n",
       "    </tr>\n",
       "    <tr>\n",
       "      <th>2013-12-30 18:51:00</th>\n",
       "      <td>10.951000</td>\n",
       "      <td>7.949333</td>\n",
       "      <td>0.000000</td>\n",
       "      <td>12</td>\n",
       "      <td>30</td>\n",
       "      <td>18</td>\n",
       "      <td>0</td>\n",
       "      <td>0.000000</td>\n",
       "    </tr>\n",
       "    <tr>\n",
       "      <th>2013-12-30 19:51:00</th>\n",
       "      <td>10.587833</td>\n",
       "      <td>7.578333</td>\n",
       "      <td>0.000000</td>\n",
       "      <td>12</td>\n",
       "      <td>30</td>\n",
       "      <td>19</td>\n",
       "      <td>0</td>\n",
       "      <td>0.000000</td>\n",
       "    </tr>\n",
       "    <tr>\n",
       "      <th>2013-12-30 20:51:00</th>\n",
       "      <td>10.191500</td>\n",
       "      <td>7.280667</td>\n",
       "      <td>0.000000</td>\n",
       "      <td>12</td>\n",
       "      <td>30</td>\n",
       "      <td>20</td>\n",
       "      <td>0</td>\n",
       "      <td>0.000000</td>\n",
       "    </tr>\n",
       "  </tbody>\n",
       "</table>\n",
       "<p>11488 rows × 8 columns</p>\n",
       "</div>"
      ],
      "text/plain": [
       "                       Ta (°C)    Tm (°C)    I (W/m2)  Month  Day  Time  \\\n",
       "Date                                                                      \n",
       "2012-03-06 03:55:00   4.900000   1.300000    0.000000      3    6     3   \n",
       "2012-03-06 04:55:00   4.705500   1.424667    0.000000      3    6     4   \n",
       "2012-03-06 05:55:00   4.750000   1.219000   24.314473      3    6     5   \n",
       "2012-03-06 06:55:00   5.078667   2.003167  174.397848      3    6     6   \n",
       "2012-03-06 07:55:00   7.105000   5.859667  371.125332      3    6     7   \n",
       "...                        ...        ...         ...    ...  ...   ...   \n",
       "2013-12-30 16:51:00  13.194333  10.606667    8.329888     12   30    16   \n",
       "2013-12-30 17:51:00  11.828833   8.566167    0.000000     12   30    17   \n",
       "2013-12-30 18:51:00  10.951000   7.949333    0.000000     12   30    18   \n",
       "2013-12-30 19:51:00  10.587833   7.578333    0.000000     12   30    19   \n",
       "2013-12-30 20:51:00  10.191500   7.280667    0.000000     12   30    20   \n",
       "\n",
       "                     Season      P (kW)  \n",
       "Date                                     \n",
       "2012-03-06 03:55:00       1    0.000000  \n",
       "2012-03-06 04:55:00       1    0.000000  \n",
       "2012-03-06 05:55:00       1   14.752650  \n",
       "2012-03-06 06:55:00       1  127.163083  \n",
       "2012-03-06 07:55:00       1  302.455700  \n",
       "...                     ...         ...  \n",
       "2013-12-30 16:51:00       0    6.246400  \n",
       "2013-12-30 17:51:00       0    0.000000  \n",
       "2013-12-30 18:51:00       0    0.000000  \n",
       "2013-12-30 19:51:00       0    0.000000  \n",
       "2013-12-30 20:51:00       0    0.000000  \n",
       "\n",
       "[11488 rows x 8 columns]"
      ]
     },
     "execution_count": 2,
     "metadata": {},
     "output_type": "execute_result"
    }
   ],
   "source": [
    "#importing the clean dataset\n",
    "df = pd.read_csv('final_data.csv', index_col = 'Date', parse_dates = True)\n",
    "df"
   ]
  },
  {
   "cell_type": "code",
   "execution_count": 3,
   "id": "18a044df",
   "metadata": {},
   "outputs": [
    {
     "data": {
      "text/html": [
       "<div>\n",
       "<style scoped>\n",
       "    .dataframe tbody tr th:only-of-type {\n",
       "        vertical-align: middle;\n",
       "    }\n",
       "\n",
       "    .dataframe tbody tr th {\n",
       "        vertical-align: top;\n",
       "    }\n",
       "\n",
       "    .dataframe thead th {\n",
       "        text-align: right;\n",
       "    }\n",
       "</style>\n",
       "<table border=\"1\" class=\"dataframe\">\n",
       "  <thead>\n",
       "    <tr style=\"text-align: right;\">\n",
       "      <th></th>\n",
       "      <th>Ta (°C)</th>\n",
       "      <th>Tm (°C)</th>\n",
       "      <th>I (W/m2)</th>\n",
       "      <th>Month</th>\n",
       "      <th>Day</th>\n",
       "      <th>Time</th>\n",
       "      <th>Season</th>\n",
       "      <th>P (kW)</th>\n",
       "    </tr>\n",
       "  </thead>\n",
       "  <tbody>\n",
       "    <tr>\n",
       "      <th>count</th>\n",
       "      <td>11488.000000</td>\n",
       "      <td>11488.000000</td>\n",
       "      <td>11488.000000</td>\n",
       "      <td>11488.000000</td>\n",
       "      <td>11488.000000</td>\n",
       "      <td>11488.000000</td>\n",
       "      <td>11488.000000</td>\n",
       "      <td>11488.000000</td>\n",
       "    </tr>\n",
       "    <tr>\n",
       "      <th>mean</th>\n",
       "      <td>20.321270</td>\n",
       "      <td>23.790647</td>\n",
       "      <td>284.476799</td>\n",
       "      <td>6.998520</td>\n",
       "      <td>15.456041</td>\n",
       "      <td>12.430014</td>\n",
       "      <td>1.646501</td>\n",
       "      <td>216.872690</td>\n",
       "    </tr>\n",
       "    <tr>\n",
       "      <th>std</th>\n",
       "      <td>8.316108</td>\n",
       "      <td>14.337396</td>\n",
       "      <td>315.537087</td>\n",
       "      <td>3.214929</td>\n",
       "      <td>8.514276</td>\n",
       "      <td>5.191415</td>\n",
       "      <td>1.063634</td>\n",
       "      <td>244.484106</td>\n",
       "    </tr>\n",
       "    <tr>\n",
       "      <th>min</th>\n",
       "      <td>-1.488000</td>\n",
       "      <td>-7.644500</td>\n",
       "      <td>0.000000</td>\n",
       "      <td>1.000000</td>\n",
       "      <td>1.000000</td>\n",
       "      <td>3.000000</td>\n",
       "      <td>0.000000</td>\n",
       "      <td>0.000000</td>\n",
       "    </tr>\n",
       "    <tr>\n",
       "      <th>25%</th>\n",
       "      <td>14.086667</td>\n",
       "      <td>12.979625</td>\n",
       "      <td>0.438084</td>\n",
       "      <td>4.000000</td>\n",
       "      <td>8.000000</td>\n",
       "      <td>8.000000</td>\n",
       "      <td>1.000000</td>\n",
       "      <td>0.016412</td>\n",
       "    </tr>\n",
       "    <tr>\n",
       "      <th>50%</th>\n",
       "      <td>19.944667</td>\n",
       "      <td>21.146000</td>\n",
       "      <td>149.092891</td>\n",
       "      <td>7.000000</td>\n",
       "      <td>15.000000</td>\n",
       "      <td>12.000000</td>\n",
       "      <td>2.000000</td>\n",
       "      <td>105.502533</td>\n",
       "    </tr>\n",
       "    <tr>\n",
       "      <th>75%</th>\n",
       "      <td>26.297042</td>\n",
       "      <td>34.059125</td>\n",
       "      <td>532.998233</td>\n",
       "      <td>10.000000</td>\n",
       "      <td>23.000000</td>\n",
       "      <td>17.000000</td>\n",
       "      <td>3.000000</td>\n",
       "      <td>414.003819</td>\n",
       "    </tr>\n",
       "    <tr>\n",
       "      <th>max</th>\n",
       "      <td>43.532833</td>\n",
       "      <td>70.138833</td>\n",
       "      <td>1071.130972</td>\n",
       "      <td>12.000000</td>\n",
       "      <td>31.000000</td>\n",
       "      <td>21.000000</td>\n",
       "      <td>3.000000</td>\n",
       "      <td>848.660950</td>\n",
       "    </tr>\n",
       "  </tbody>\n",
       "</table>\n",
       "</div>"
      ],
      "text/plain": [
       "            Ta (°C)       Tm (°C)      I (W/m2)         Month           Day  \\\n",
       "count  11488.000000  11488.000000  11488.000000  11488.000000  11488.000000   \n",
       "mean      20.321270     23.790647    284.476799      6.998520     15.456041   \n",
       "std        8.316108     14.337396    315.537087      3.214929      8.514276   \n",
       "min       -1.488000     -7.644500      0.000000      1.000000      1.000000   \n",
       "25%       14.086667     12.979625      0.438084      4.000000      8.000000   \n",
       "50%       19.944667     21.146000    149.092891      7.000000     15.000000   \n",
       "75%       26.297042     34.059125    532.998233     10.000000     23.000000   \n",
       "max       43.532833     70.138833   1071.130972     12.000000     31.000000   \n",
       "\n",
       "               Time        Season        P (kW)  \n",
       "count  11488.000000  11488.000000  11488.000000  \n",
       "mean      12.430014      1.646501    216.872690  \n",
       "std        5.191415      1.063634    244.484106  \n",
       "min        3.000000      0.000000      0.000000  \n",
       "25%        8.000000      1.000000      0.016412  \n",
       "50%       12.000000      2.000000    105.502533  \n",
       "75%       17.000000      3.000000    414.003819  \n",
       "max       21.000000      3.000000    848.660950  "
      ]
     },
     "execution_count": 3,
     "metadata": {},
     "output_type": "execute_result"
    }
   ],
   "source": [
    "df.describe()"
   ]
  },
  {
   "cell_type": "code",
   "execution_count": 4,
   "id": "6d910c6e",
   "metadata": {},
   "outputs": [
    {
     "name": "stdout",
     "output_type": "stream",
     "text": [
      "datetime64[ns]\n"
     ]
    }
   ],
   "source": [
    "print(df.index.dtype)"
   ]
  },
  {
   "cell_type": "code",
   "execution_count": 5,
   "id": "32d6ccc6",
   "metadata": {},
   "outputs": [],
   "source": [
    "#splitting the data into training and testing\n",
    "train=df.iloc[:-24]\n",
    "test=df.iloc[-24:]"
   ]
  },
  {
   "cell_type": "code",
   "execution_count": 6,
   "id": "fcbad19a",
   "metadata": {},
   "outputs": [],
   "source": [
    "#splitting the data into training and testing\n",
    "lr_train = train.iloc[:-1000]\n",
    "lr_test = train.iloc[-1000:]\n",
    "\n",
    "FEATURES = ['Ta (°C)', 'Tm (°C)', 'I (W/m2)', 'Time', 'Day', 'Month', 'Season']\n",
    "TARGET = 'P (kW)'\n",
    "\n",
    "X_train = lr_train[FEATURES]\n",
    "y_train = lr_train[TARGET]\n",
    "\n",
    "X_test = lr_test[FEATURES]\n",
    "y_test = lr_test[TARGET]"
   ]
  },
  {
   "cell_type": "code",
   "execution_count": 7,
   "id": "a2a1fc53",
   "metadata": {},
   "outputs": [
    {
     "name": "stdout",
     "output_type": "stream",
     "text": [
      "(10464, 7)\n",
      "(10464,)\n",
      "(1000, 7)\n",
      "(1000,)\n"
     ]
    }
   ],
   "source": [
    "print(X_train.shape)\n",
    "print(y_train.shape)\n",
    "print(X_test.shape)\n",
    "print(y_test.shape)"
   ]
  },
  {
   "cell_type": "code",
   "execution_count": 8,
   "id": "c6dbe4bf",
   "metadata": {},
   "outputs": [
    {
     "data": {
      "text/html": [
       "<style>#sk-container-id-1 {color: black;background-color: white;}#sk-container-id-1 pre{padding: 0;}#sk-container-id-1 div.sk-toggleable {background-color: white;}#sk-container-id-1 label.sk-toggleable__label {cursor: pointer;display: block;width: 100%;margin-bottom: 0;padding: 0.3em;box-sizing: border-box;text-align: center;}#sk-container-id-1 label.sk-toggleable__label-arrow:before {content: \"▸\";float: left;margin-right: 0.25em;color: #696969;}#sk-container-id-1 label.sk-toggleable__label-arrow:hover:before {color: black;}#sk-container-id-1 div.sk-estimator:hover label.sk-toggleable__label-arrow:before {color: black;}#sk-container-id-1 div.sk-toggleable__content {max-height: 0;max-width: 0;overflow: hidden;text-align: left;background-color: #f0f8ff;}#sk-container-id-1 div.sk-toggleable__content pre {margin: 0.2em;color: black;border-radius: 0.25em;background-color: #f0f8ff;}#sk-container-id-1 input.sk-toggleable__control:checked~div.sk-toggleable__content {max-height: 200px;max-width: 100%;overflow: auto;}#sk-container-id-1 input.sk-toggleable__control:checked~label.sk-toggleable__label-arrow:before {content: \"▾\";}#sk-container-id-1 div.sk-estimator input.sk-toggleable__control:checked~label.sk-toggleable__label {background-color: #d4ebff;}#sk-container-id-1 div.sk-label input.sk-toggleable__control:checked~label.sk-toggleable__label {background-color: #d4ebff;}#sk-container-id-1 input.sk-hidden--visually {border: 0;clip: rect(1px 1px 1px 1px);clip: rect(1px, 1px, 1px, 1px);height: 1px;margin: -1px;overflow: hidden;padding: 0;position: absolute;width: 1px;}#sk-container-id-1 div.sk-estimator {font-family: monospace;background-color: #f0f8ff;border: 1px dotted black;border-radius: 0.25em;box-sizing: border-box;margin-bottom: 0.5em;}#sk-container-id-1 div.sk-estimator:hover {background-color: #d4ebff;}#sk-container-id-1 div.sk-parallel-item::after {content: \"\";width: 100%;border-bottom: 1px solid gray;flex-grow: 1;}#sk-container-id-1 div.sk-label:hover label.sk-toggleable__label {background-color: #d4ebff;}#sk-container-id-1 div.sk-serial::before {content: \"\";position: absolute;border-left: 1px solid gray;box-sizing: border-box;top: 0;bottom: 0;left: 50%;z-index: 0;}#sk-container-id-1 div.sk-serial {display: flex;flex-direction: column;align-items: center;background-color: white;padding-right: 0.2em;padding-left: 0.2em;position: relative;}#sk-container-id-1 div.sk-item {position: relative;z-index: 1;}#sk-container-id-1 div.sk-parallel {display: flex;align-items: stretch;justify-content: center;background-color: white;position: relative;}#sk-container-id-1 div.sk-item::before, #sk-container-id-1 div.sk-parallel-item::before {content: \"\";position: absolute;border-left: 1px solid gray;box-sizing: border-box;top: 0;bottom: 0;left: 50%;z-index: -1;}#sk-container-id-1 div.sk-parallel-item {display: flex;flex-direction: column;z-index: 1;position: relative;background-color: white;}#sk-container-id-1 div.sk-parallel-item:first-child::after {align-self: flex-end;width: 50%;}#sk-container-id-1 div.sk-parallel-item:last-child::after {align-self: flex-start;width: 50%;}#sk-container-id-1 div.sk-parallel-item:only-child::after {width: 0;}#sk-container-id-1 div.sk-dashed-wrapped {border: 1px dashed gray;margin: 0 0.4em 0.5em 0.4em;box-sizing: border-box;padding-bottom: 0.4em;background-color: white;}#sk-container-id-1 div.sk-label label {font-family: monospace;font-weight: bold;display: inline-block;line-height: 1.2em;}#sk-container-id-1 div.sk-label-container {text-align: center;}#sk-container-id-1 div.sk-container {/* jupyter's `normalize.less` sets `[hidden] { display: none; }` but bootstrap.min.css set `[hidden] { display: none !important; }` so we also need the `!important` here to be able to override the default hidden behavior on the sphinx rendered scikit-learn.org. See: https://github.com/scikit-learn/scikit-learn/issues/21755 */display: inline-block !important;position: relative;}#sk-container-id-1 div.sk-text-repr-fallback {display: none;}</style><div id=\"sk-container-id-1\" class=\"sk-top-container\"><div class=\"sk-text-repr-fallback\"><pre>LinearRegression()</pre><b>In a Jupyter environment, please rerun this cell to show the HTML representation or trust the notebook. <br />On GitHub, the HTML representation is unable to render, please try loading this page with nbviewer.org.</b></div><div class=\"sk-container\" hidden><div class=\"sk-item\"><div class=\"sk-estimator sk-toggleable\"><input class=\"sk-toggleable__control sk-hidden--visually\" id=\"sk-estimator-id-1\" type=\"checkbox\" checked><label for=\"sk-estimator-id-1\" class=\"sk-toggleable__label sk-toggleable__label-arrow\">LinearRegression</label><div class=\"sk-toggleable__content\"><pre>LinearRegression()</pre></div></div></div></div></div>"
      ],
      "text/plain": [
       "LinearRegression()"
      ]
     },
     "execution_count": 8,
     "metadata": {},
     "output_type": "execute_result"
    }
   ],
   "source": [
    "lr = LinearRegression()\n",
    "lr.fit(X_train, y_train)"
   ]
  },
  {
   "cell_type": "code",
   "execution_count": 9,
   "id": "7ccf1ad6",
   "metadata": {},
   "outputs": [
    {
     "name": "stdout",
     "output_type": "stream",
     "text": [
      "R-squared: 0.97\n",
      "RMSE: 25.44\n"
     ]
    }
   ],
   "source": [
    "y_pred = lr.predict(X_test)\n",
    "\n",
    "r2 = r2_score(y_test, y_pred)\n",
    "rmse = math.sqrt(mean_squared_error(y_test, y_pred))\n",
    "print('R-squared: %.2f' % r2)\n",
    "print('RMSE: %.2f' % rmse)"
   ]
  },
  {
   "cell_type": "code",
   "execution_count": 10,
   "id": "5159bb88",
   "metadata": {},
   "outputs": [],
   "source": [
    "dfta =pd.DataFrame()\n",
    "dfta['Ta (°C)'] = train['Ta (°C)']\n",
    "dftm =pd.DataFrame()\n",
    "dftm['Tm (°C)'] = train['Tm (°C)']\n",
    "dfi =pd.DataFrame()\n",
    "dfi['I (W/m2)'] = train['I (W/m2)']"
   ]
  },
  {
   "cell_type": "code",
   "execution_count": 11,
   "id": "ad31bf73",
   "metadata": {},
   "outputs": [],
   "source": [
    "scalerta = MinMaxScaler()\n",
    "scalertm = MinMaxScaler()\n",
    "scaleri = MinMaxScaler()"
   ]
  },
  {
   "cell_type": "code",
   "execution_count": 12,
   "id": "bc0109c0",
   "metadata": {},
   "outputs": [],
   "source": [
    "scalerta.fit(dfta)\n",
    "scalertm.fit(dftm)\n",
    "scaleri.fit(dfi)\n",
    "\n",
    "scaled_dfta = scalerta.transform(dfta)\n",
    "scaled_dftm = scalertm.transform(dftm)\n",
    "scaled_dfi = scaleri.transform(dfi)"
   ]
  },
  {
   "cell_type": "code",
   "execution_count": 13,
   "id": "b066c41d",
   "metadata": {},
   "outputs": [],
   "source": [
    "n_input = 24\n",
    "n_features = 1\n",
    "generatorta = TimeseriesGenerator(scaled_dfta, scaled_dfta, length = n_input, batch_size = 1)\n",
    "generatortm = TimeseriesGenerator(scaled_dftm, scaled_dftm, length = n_input, batch_size = 1)\n",
    "generatori = TimeseriesGenerator(scaled_dfi, scaled_dfi, length = n_input, batch_size = 1)"
   ]
  },
  {
   "cell_type": "code",
   "execution_count": 14,
   "id": "e11b358a",
   "metadata": {},
   "outputs": [],
   "source": [
    "from keras.models import Sequential\n",
    "from keras.layers import Dense\n",
    "from keras.layers import LSTM"
   ]
  },
  {
   "cell_type": "code",
   "execution_count": 15,
   "id": "9dad3339",
   "metadata": {},
   "outputs": [],
   "source": [
    "modelta = Sequential()\n",
    "modelta.add(LSTM(100, activation='LeakyReLU', input_shape=(n_input, n_features)))\n",
    "modelta.add(Dense(1))\n",
    "modelta.compile(optimizer='adam', loss='mse')"
   ]
  },
  {
   "cell_type": "code",
   "execution_count": 16,
   "id": "80319f4b",
   "metadata": {},
   "outputs": [],
   "source": [
    "modeltm = Sequential()\n",
    "modeltm.add(LSTM(100, activation='LeakyReLU', input_shape=(n_input, n_features)))\n",
    "modeltm.add(Dense(1))\n",
    "modeltm.compile(optimizer='adam', loss='mse')"
   ]
  },
  {
   "cell_type": "code",
   "execution_count": 17,
   "id": "1dfb73ba",
   "metadata": {},
   "outputs": [],
   "source": [
    "modeli = Sequential()\n",
    "modeli.add(LSTM(100, activation = 'LeakyReLU', return_sequences=True, input_shape=(n_input, n_features)))\n",
    "modeli.add(Dense(1))\n",
    "modeli.compile(optimizer='adam', loss='mse')"
   ]
  },
  {
   "cell_type": "code",
   "execution_count": 18,
   "id": "3fe5f38b",
   "metadata": {},
   "outputs": [
    {
     "name": "stdout",
     "output_type": "stream",
     "text": [
      "Model: \"sequential\"\n",
      "_________________________________________________________________\n",
      " Layer (type)                Output Shape              Param #   \n",
      "=================================================================\n",
      " lstm (LSTM)                 (None, 100)               40800     \n",
      "                                                                 \n",
      " dense (Dense)               (None, 1)                 101       \n",
      "                                                                 \n",
      "=================================================================\n",
      "Total params: 40,901\n",
      "Trainable params: 40,901\n",
      "Non-trainable params: 0\n",
      "_________________________________________________________________\n"
     ]
    }
   ],
   "source": [
    "modelta.summary()"
   ]
  },
  {
   "cell_type": "code",
   "execution_count": 19,
   "id": "454acf9c",
   "metadata": {},
   "outputs": [
    {
     "name": "stdout",
     "output_type": "stream",
     "text": [
      "Model: \"sequential_1\"\n",
      "_________________________________________________________________\n",
      " Layer (type)                Output Shape              Param #   \n",
      "=================================================================\n",
      " lstm_1 (LSTM)               (None, 100)               40800     \n",
      "                                                                 \n",
      " dense_1 (Dense)             (None, 1)                 101       \n",
      "                                                                 \n",
      "=================================================================\n",
      "Total params: 40,901\n",
      "Trainable params: 40,901\n",
      "Non-trainable params: 0\n",
      "_________________________________________________________________\n"
     ]
    }
   ],
   "source": [
    "modeltm.summary()"
   ]
  },
  {
   "cell_type": "code",
   "execution_count": 20,
   "id": "882c7ac4",
   "metadata": {},
   "outputs": [
    {
     "name": "stdout",
     "output_type": "stream",
     "text": [
      "Model: \"sequential_2\"\n",
      "_________________________________________________________________\n",
      " Layer (type)                Output Shape              Param #   \n",
      "=================================================================\n",
      " lstm_2 (LSTM)               (None, 24, 100)           40800     \n",
      "                                                                 \n",
      " dense_2 (Dense)             (None, 24, 1)             101       \n",
      "                                                                 \n",
      "=================================================================\n",
      "Total params: 40,901\n",
      "Trainable params: 40,901\n",
      "Non-trainable params: 0\n",
      "_________________________________________________________________\n"
     ]
    }
   ],
   "source": [
    "modeli.summary()"
   ]
  },
  {
   "cell_type": "code",
   "execution_count": 21,
   "id": "807287d6",
   "metadata": {},
   "outputs": [
    {
     "name": "stdout",
     "output_type": "stream",
     "text": [
      "Epoch 1/10\n",
      "11440/11440 [==============================] - 59s 5ms/step - loss: 0.0023\n",
      "Epoch 2/10\n",
      "11440/11440 [==============================] - 59s 5ms/step - loss: 0.0010\n",
      "Epoch 3/10\n",
      "11440/11440 [==============================] - 59s 5ms/step - loss: 8.7499e-04\n",
      "Epoch 4/10\n",
      "11440/11440 [==============================] - 59s 5ms/step - loss: 8.3682e-04\n",
      "Epoch 5/10\n",
      "11440/11440 [==============================] - 59s 5ms/step - loss: 8.0373e-04\n",
      "Epoch 6/10\n",
      "11440/11440 [==============================] - 59s 5ms/step - loss: 7.7239e-04\n",
      "Epoch 7/10\n",
      "11440/11440 [==============================] - 57s 5ms/step - loss: 7.3144e-04\n",
      "Epoch 8/10\n",
      "11440/11440 [==============================] - 57s 5ms/step - loss: 7.2360e-04\n",
      "Epoch 9/10\n",
      "11440/11440 [==============================] - 57s 5ms/step - loss: 7.1282e-04\n",
      "Epoch 10/10\n",
      "11440/11440 [==============================] - 56s 5ms/step - loss: 6.9257e-04\n"
     ]
    },
    {
     "data": {
      "text/plain": [
       "<keras.callbacks.History at 0x2495d147ca0>"
      ]
     },
     "execution_count": 21,
     "metadata": {},
     "output_type": "execute_result"
    }
   ],
   "source": [
    "modelta.fit(generatorta,epochs=10)"
   ]
  },
  {
   "cell_type": "code",
   "execution_count": null,
   "id": "a5a0efaf",
   "metadata": {},
   "outputs": [
    {
     "name": "stdout",
     "output_type": "stream",
     "text": [
      "Epoch 1/10\n",
      "11440/11440 [==============================] - 57s 5ms/step - loss: 0.0032\n",
      "Epoch 2/10\n",
      "11440/11440 [==============================] - 57s 5ms/step - loss: 0.0017\n",
      "Epoch 3/10\n",
      "11440/11440 [==============================] - 57s 5ms/step - loss: 0.0016\n",
      "Epoch 4/10\n",
      "11440/11440 [==============================] - 57s 5ms/step - loss: 0.0015\n",
      "Epoch 5/10\n",
      "11440/11440 [==============================] - 57s 5ms/step - loss: 0.0015\n",
      "Epoch 6/10\n",
      " 4447/11440 [==========>...................] - ETA: 34s - loss: 0.0014"
     ]
    }
   ],
   "source": [
    "modeltm.fit(generatortm,epochs=10)"
   ]
  },
  {
   "cell_type": "code",
   "execution_count": null,
   "id": "34060fbf",
   "metadata": {},
   "outputs": [],
   "source": [
    "modeli.fit(generatori,epochs=10)"
   ]
  },
  {
   "cell_type": "code",
   "execution_count": null,
   "id": "340a6291",
   "metadata": {},
   "outputs": [],
   "source": [
    "loss_per_epoch = modelta.history.history['loss']\n",
    "plt.plot(range(len(loss_per_epoch)),loss_per_epoch)"
   ]
  },
  {
   "cell_type": "code",
   "execution_count": null,
   "id": "ff18ca85",
   "metadata": {},
   "outputs": [],
   "source": [
    "loss_per_epoch = modeltm.history.history['loss']\n",
    "plt.plot(range(len(loss_per_epoch)),loss_per_epoch)"
   ]
  },
  {
   "cell_type": "code",
   "execution_count": null,
   "id": "be70ed4b",
   "metadata": {},
   "outputs": [],
   "source": [
    "loss_per_epoch = modeli.history.history['loss']\n",
    "plt.plot(range(len(loss_per_epoch)),loss_per_epoch)"
   ]
  },
  {
   "cell_type": "code",
   "execution_count": null,
   "id": "1e886c44",
   "metadata": {},
   "outputs": [],
   "source": [
    "test_predictions_ta = []\n",
    "\n",
    "first_eval_batch = scaled_dfta[-n_input:]\n",
    "current_batch = first_eval_batch.reshape((1, n_input, n_features))\n",
    "\n",
    "for i in range(len(test)):\n",
    "    \n",
    "    # get the prediction value for the first batch\n",
    "    current_pred = modelta.predict(current_batch)[0]\n",
    "    \n",
    "    # append the prediction into the array\n",
    "    test_predictions_ta.append(current_pred) \n",
    "    \n",
    "    # use the prediction to update the batch and remove the first value\n",
    "    current_batch = np.append(current_batch[:,1:,:],[[current_pred]],axis=1)"
   ]
  },
  {
   "cell_type": "code",
   "execution_count": null,
   "id": "79062c75",
   "metadata": {},
   "outputs": [],
   "source": [
    "test_predictions_tm = []\n",
    "\n",
    "first_eval_batch = scaled_dftm[-n_input:]\n",
    "current_batch = first_eval_batch.reshape((1, n_input, n_features))\n",
    "\n",
    "for i in range(len(test)):\n",
    "    \n",
    "    # get the prediction value for the first batch\n",
    "    current_pred = modeltm.predict(current_batch)[0]\n",
    "    \n",
    "    # append the prediction into the array\n",
    "    test_predictions_tm.append(current_pred) \n",
    "    \n",
    "    # use the prediction to update the batch and remove the first value\n",
    "    current_batch = np.append(current_batch[:,1:,:],[[current_pred]],axis=1)"
   ]
  },
  {
   "cell_type": "code",
   "execution_count": null,
   "id": "8257704b",
   "metadata": {},
   "outputs": [],
   "source": [
    "test_predictions_i = []\n",
    "\n",
    "first_eval_batch = scaled_dfi[-n_input:]\n",
    "current_batch = first_eval_batch.reshape((1, n_input, n_features))\n",
    "\n",
    "for i in range(len(test)):\n",
    "    \n",
    "    # get the prediction value for the first batch\n",
    "    current_pred = modeli.predict(current_batch)[0]\n",
    "    \n",
    "    # append the prediction into the array\n",
    "    test_predictions_i.append(current_pred) \n",
    "    \n",
    "    # use the prediction to update the batch and remove the first value\n",
    "    current_batch = np.append(current_batch[:,1:,:],[[current_pred]],axis=1)"
   ]
  },
  {
   "cell_type": "code",
   "execution_count": null,
   "id": "c3186a66",
   "metadata": {},
   "outputs": [],
   "source": [
    "test_predictions_ta = scalerta.inverse_transform(test_predictions_ta)\n",
    "test_predictions_tm = scalertm.inverse_transform(test_predictions_tm)\n",
    "test_predictions_i = scaleri.inverse_transform(test_predictions_i)"
   ]
  },
  {
   "cell_type": "code",
   "execution_count": null,
   "id": "3fe9e619",
   "metadata": {},
   "outputs": [],
   "source": [
    "result_ta = pd.DataFrame()\n",
    "result_ta['Ta True'] = test['Ta (°C)']\n",
    "result_ta['Ta Predictions'] = test_predictions_ta\n",
    "\n",
    "result_tm = pd.DataFrame()\n",
    "result_tm['Tm True'] = test['Tm (°C)']\n",
    "result_tm['Tm Predictions'] = test_predictions_tm\n",
    "\n",
    "result_i = pd.DataFrame()\n",
    "result_i['I True'] = test['I (W/m2)']\n",
    "result_i['I Predictions'] = test_predictions_i"
   ]
  },
  {
   "cell_type": "code",
   "execution_count": null,
   "id": "10149a50",
   "metadata": {},
   "outputs": [],
   "source": [
    "result_ta['Ta True'].plot(figsize=(14,5))\n",
    "result_ta['Ta Predictions'].plot(figsize=(14,5))"
   ]
  },
  {
   "cell_type": "code",
   "execution_count": null,
   "id": "0ef8089c",
   "metadata": {},
   "outputs": [],
   "source": [
    "r2_ta = r2_score(result_ta['Ta True'], result_ta['Ta Predictions'])\n",
    "rmse_ta = math.sqrt(mean_squared_error(result_ta['Ta True'], result_ta['Ta Predictions']))\n",
    "print('R-squared: %.2f' % r2_ta)\n",
    "print('RMSE: %.2f' % rmse_ta)"
   ]
  },
  {
   "cell_type": "code",
   "execution_count": null,
   "id": "5ed0b783",
   "metadata": {},
   "outputs": [],
   "source": [
    "result_tm['Tm True'].plot(figsize=(14,5))\n",
    "result_tm['Tm Predictions'].plot(figsize=(14,5))"
   ]
  },
  {
   "cell_type": "code",
   "execution_count": null,
   "id": "f31d31d0",
   "metadata": {},
   "outputs": [],
   "source": [
    "r2_tm = r2_score(result_tm['Tm True'], result_tm['Tm Predictions'])\n",
    "rmse_tm = math.sqrt(mean_squared_error(result_tm['Tm True'], result_tm['Tm Predictions']))\n",
    "print('R-squared: %.2f' % r2_tm)\n",
    "print('RMSE: %.2f' % rmse_tm)"
   ]
  },
  {
   "cell_type": "code",
   "execution_count": null,
   "id": "e50f7b3b",
   "metadata": {},
   "outputs": [],
   "source": [
    "result_i['I True'].plot(figsize=(14,5))\n",
    "result_i['I Predictions'].plot(figsize=(14,5))"
   ]
  },
  {
   "cell_type": "code",
   "execution_count": null,
   "id": "3f938362",
   "metadata": {},
   "outputs": [],
   "source": [
    "r2_i = r2_score(result_i['I True'], result_i['I Predictions'])\n",
    "rmse_i = math.sqrt(mean_squared_error(result_i['I True'], result_i['I Predictions']))\n",
    "print('R-squared: %.2f' % r2_i)\n",
    "print('RMSE: %.2f' % rmse_i)"
   ]
  },
  {
   "cell_type": "code",
   "execution_count": null,
   "id": "402a8859",
   "metadata": {},
   "outputs": [],
   "source": [
    "final_df = pd.DataFrame()\n",
    "final_df['Ta (°C)'] = result_ta['Ta Predictions'] \n",
    "final_df['Tm (°C)'] = result_tm['Tm Predictions']\n",
    "final_df['I (W/m2)'] = result_i['I Predictions']\n",
    "final_df['Time'] = test['Time']\n",
    "final_df['Day'] = test['Day']\n",
    "final_df['Month'] = test['Month']\n",
    "final_df['Season'] = test['Season']\n",
    "final_df.index = pd.to_datetime(test.index)\n",
    "final_df"
   ]
  },
  {
   "cell_type": "code",
   "execution_count": null,
   "id": "eeb4989c",
   "metadata": {},
   "outputs": [],
   "source": [
    "final_power = lr.predict(final_df)"
   ]
  },
  {
   "cell_type": "code",
   "execution_count": null,
   "id": "7ee4543e",
   "metadata": {},
   "outputs": [],
   "source": [
    "result_power = pd.DataFrame()\n",
    "result_power['P True'] = test['P (kW)']\n",
    "result_power['P Predictions'] = final_power"
   ]
  },
  {
   "cell_type": "code",
   "execution_count": null,
   "id": "f3b84eb4",
   "metadata": {},
   "outputs": [],
   "source": [
    "result_power['P True'].plot(figsize=(14,5))\n",
    "result_power['P Predictions'].plot(figsize=(14,5))"
   ]
  },
  {
   "cell_type": "code",
   "execution_count": null,
   "id": "e4558163",
   "metadata": {},
   "outputs": [],
   "source": [
    "r2_power = r2_score(result_power['P True'], result_power['P Predictions'])\n",
    "rmse_power = math.sqrt(mean_squared_error(result_power['P True'], result_power['P Predictions']))\n",
    "print('R-squared: %.2f' % r2_power)\n",
    "print('RMSE: %.2f' % rmse_power)"
   ]
  },
  {
   "cell_type": "code",
   "execution_count": null,
   "id": "bb436fc8",
   "metadata": {},
   "outputs": [],
   "source": []
  },
  {
   "cell_type": "code",
   "execution_count": null,
   "id": "74d428de",
   "metadata": {},
   "outputs": [],
   "source": []
  }
 ],
 "metadata": {
  "kernelspec": {
   "display_name": "Python 3 (ipykernel)",
   "language": "python",
   "name": "python3"
  },
  "language_info": {
   "codemirror_mode": {
    "name": "ipython",
    "version": 3
   },
   "file_extension": ".py",
   "mimetype": "text/x-python",
   "name": "python",
   "nbconvert_exporter": "python",
   "pygments_lexer": "ipython3",
   "version": "3.9.0"
  }
 },
 "nbformat": 4,
 "nbformat_minor": 5
}
